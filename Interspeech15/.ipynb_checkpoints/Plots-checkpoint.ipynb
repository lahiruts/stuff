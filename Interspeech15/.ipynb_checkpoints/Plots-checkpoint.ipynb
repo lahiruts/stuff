{
 "metadata": {
  "name": "",
  "signature": "sha256:0840c46c2fcf3f7b13112ad30bb3c3ece11bfa70d0a837f962c35dca7baf5cd8"
 },
 "nbformat": 3,
 "nbformat_minor": 0,
 "worksheets": []
}