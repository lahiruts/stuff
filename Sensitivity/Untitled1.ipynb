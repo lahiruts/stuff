{
 "metadata": {
  "name": "",
  "signature": "sha256:a9b9229b364d6ca3236613ab371125c913a4251918b9d598e3b61981d777a3f4"
 },
 "nbformat": 3,
 "nbformat_minor": 0,
 "worksheets": [
  {
   "cells": [
    {
     "cell_type": "code",
     "collapsed": false,
     "input": [
      "import numpy as np\n",
      "\n",
      "dir_name='/media/Lahiru/Research/StructuredAdaptation/bk_speaker_sensitivity/exp_pdnn/25_dnn_fbank-ivec_128/vectors/'\n",
      "max_entropy=5\n",
      "\n",
      "for i in range(1,6):\n",
      "    file_name=dir_name+str(i)+'.dat'\n",
      "    vector_file = open(file_name,'r')\n",
      "    units=[]\n",
      "    for line in vector_file:\n",
      "        x=float(line.rstrip())\n",
      "        units.append(x)\n",
      "\n",
      "    val = abs(max_entropy -np.sum(units)/1024)   \n",
      "    #val = abs(max_entropy -np.sum(units)/1124) ,abs(max_entropy-np.sum(units[:1024])/1024),abs(max_entropy -np.sum(units[1024:])/100)\n",
      "    print val"
     ],
     "language": "python",
     "metadata": {},
     "outputs": [
      {
       "output_type": "stream",
       "stream": "stdout",
       "text": [
        "0.048832548933\n",
        "0.116230926652\n",
        "0.0308562556495\n",
        "0.0316347392399\n",
        "0.039082761095\n"
       ]
      }
     ],
     "prompt_number": 10
    }
   ],
   "metadata": {}
  }
 ]
}