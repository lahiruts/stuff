{
 "metadata": {
  "name": "",
  "signature": "sha256:c3d6df1063c139d9651b2d5b20bc0c00f2de91dde52d94775f0fc5b5c761e903"
 },
 "nbformat": 3,
 "nbformat_minor": 0,
 "worksheets": [
  {
   "cells": [
    {
     "cell_type": "code",
     "collapsed": false,
     "input": [
      "import numpy as np\n",
      "import math\n",
      "\n",
      "def calc_entropy(activationVector):\n",
      "    entropy=0.0\n",
      "    summation = np.sum(activationVector)\n",
      "    activationVector = activationVector / summation\n",
      "    for val in activationVector:\n",
      "        entropy = entropy - val * math.log(val,2)\n",
      "    return entropy\n",
      "\n",
      "base_dir='sensitivity/activations/dev_0330/'\n",
      "speakers = '050 051 052 053 22g 22h 420 421 422 423'\n",
      "channels = 'wv1'\n",
      "noises = 'clean car babble restaurant street airport train'\n",
      "\n",
      "layer_size=2048\n",
      "\n",
      "speakerList=speakers.split()\n",
      "channelList = channels.split()\n",
      "noisesList = noises.split()\n",
      "\n",
      "for layer in range(1,8):\n",
      "    phone_counts={}\n",
      "    phone_vectors={}\n",
      "\n",
      "\n",
      "    for speaker in speakerList:\n",
      "        for channel in channelList:\n",
      "            for noise in noisesList:\n",
      "            \n",
      "                print '---------' + str(speaker) + ' ----------' + str(channel) + '-------' + str(noise) + '------'\n",
      "                phoneLabels = base_dir + speaker + '/'+channel+'/'+noise +'/'+'pdf..ark' #phones\n",
      "                phoneLabelFile = open(phoneLabels, 'r')\n",
      "                activation_file = open(base_dir + speaker + '/'+channel+'/'+noise +'/'+str(layer)'_activations.ark','r')\n",
      "\n",
      "                while True:\n",
      "                    line = phoneLabelFile.readline()\n",
      "                    if line == '': #eof reached\n",
      "                        break\n",
      "                    else:\n",
      "                        parray = line.rstrip().split()\n",
      "                        utterance = parray[0]\n",
      "                        num_frames = len(parray[1:])\n",
      "\n",
      "                    #print '----------------------------------------------------'\n",
      "                    #print ' number of frames ' + str(num_frames)\n",
      "\n",
      "                        for count in range(len(parray)):\n",
      "                            act_line = ((activation_file.readline()).rstrip()).split()\n",
      "\n",
      "                            if len(act_line) == 2:\n",
      "                                utt1= act_line[0]\n",
      "                                #print ' started reading hidden activations for ' + act_line[0]\n",
      "                            elif len(act_line) == layer_size + 1:\n",
      "                                #print ' ended reading hidden activations ' + str(count)\n",
      "                                phoneme=parray[count]\n",
      "                                if phoneme in phone_counts.keys():\n",
      "                                    phone_counts[phoneme] =phone_counts.get(phoneme) + 1\n",
      "                                    phone_vectors[phoneme] = np.add(np.array(act_line[:layer_size],dtype=np.float),phone_vectors.get(phoneme))\n",
      "                                else:\n",
      "                                    phone_counts[phoneme] = 1\n",
      "                                    phone_vectors[phoneme] = np.array(act_line[:layer_size],dtype=np.float)\n",
      "                            else:\n",
      "                                phoneme=parray[count]\n",
      "                                if phoneme in phone_counts.keys():\n",
      "                                    phone_counts[phoneme] =phone_counts.get(phoneme) + 1\n",
      "                                    phone_vectors[phoneme] = np.add(np.array(act_line,dtype=np.float),phone_vectors.get(phoneme))\n",
      "                                else:\n",
      "                                    phone_counts[phoneme] = 1\n",
      "                                    phone_vectors[phoneme] = np.array(act_line,dtype=np.float)\n",
      "\n",
      "\n",
      "                #print len(phone_counts)        \n",
      "                #print phone_counts   \n",
      "                #print len(phone_vectors) \n",
      "\n",
      "                #average phoneme vectors\n",
      "                for phoneme in phone_counts.keys() :\n",
      "                    phone_vectors[phoneme] = phone_vectors.get(phoneme)/phone_counts.get(phoneme)\n",
      "\n",
      "                weight_array=np.zeros(layer_size)\n",
      "                for phoneme in phone_vectors.keys():\n",
      "                    weight_array=np.vstack((weight_array,phone_vectors.get(phoneme)))\n",
      "\n",
      "                #print shape(weight_array)\n",
      "                weight_array = np.delete(weight_array,0,0)\n",
      "                #print shape(weight_array) \n",
      "\n",
      "                num_phones = len(weight_array)\n",
      "                max_entropy= num_phones * -(1.0/num_phones)*math.log((1.0/num_phones),2)\n",
      "                print num_phones\n",
      "                print max_entropy\n",
      "                #print np.sum(weight_array[1:,0])\n",
      "                ent_val=[]\n",
      "                for i in range(layer_size):\n",
      "                    ent_val.append(calc_entropy(weight_array[:,i]))\n",
      "                \n",
      "                total_ent=0.0\n",
      "                sens_val={}\n",
      "                node_idx=0\n",
      "                for ent in ent_val :\n",
      "                    sens = (max_entropy - ent)/max_entropy\n",
      "                    total_ent = total_ent + sens\n",
      "                    sens_val[node_idx]=sens\n",
      "                    node_idx = node_idx + 1\n",
      "\n",
      "                print total_ent/layer_size\n",
      "\n",
      "                sens_units=[]\n",
      "                for key in sorted(sens_val,key=sens_val.get,reverse=True):\n",
      "                    sens_units.append(key)\n",
      "\n",
      "                np.savetxt(base_dir+ speaker+'/'+channel+'/'+noise +'/'+'pdfSensitivity%d'%layer,sens_val.values())\n",
      "                np.savetxt(base_dir+ speaker+'/'+channel+'/'+noise +'/'+'pdfUnits%d'%layer,sens_units)"
     ],
     "language": "python",
     "metadata": {},
     "outputs": [
      {
       "output_type": "stream",
       "stream": "stdout",
       "text": [
        "0.0464866266578  0.0530148828042  0.00192039803168\n",
        "0.0663509418212  0.076047319294  0.000157004940206"
       ]
      },
      {
       "output_type": "stream",
       "stream": "stdout",
       "text": [
        "\n",
        "0.0512353323344  0.0587400631819  3.03641531297e-06"
       ]
      },
      {
       "output_type": "stream",
       "stream": "stdout",
       "text": [
        "\n",
        "0.0290507652376  0.0333060444411  1.3925417265e-06"
       ]
      },
      {
       "output_type": "stream",
       "stream": "stdout",
       "text": [
        "\n",
        "0.0402302004731  0.0402302004731  1.0"
       ]
      },
      {
       "output_type": "stream",
       "stream": "stdout",
       "text": [
        "\n",
        "0.0634738377645  0.0634738377645  1.0"
       ]
      },
      {
       "output_type": "stream",
       "stream": "stdout",
       "text": [
        "\n"
       ]
      }
     ],
     "prompt_number": 1
    },
    {
     "cell_type": "code",
     "collapsed": false,
     "input": [],
     "language": "python",
     "metadata": {},
     "outputs": []
    },
    {
     "cell_type": "code",
     "collapsed": false,
     "input": [
      "print 'overall fmllr model'\n",
      "\n",
      "print 0.047869457131/0.0202210855074\n",
      "print 0.0675053096186/0.00404385303702\n",
      "print 0.050788180787/0.0012941714405\n",
      "print 0.0310749851585/0.000564806970281\n",
      "print 0.0348898714182/0.000607070935519\n",
      "print 0.0520081970607/0.000896708543524\n",
      "\n",
      "print 'overall fbank model'\n",
      "\n",
      "phone_sens = [0.0768001643265,0.0922524894857,0.0870939119768,0.0637787991815,0.0638534890974,0.0985898450238]\n",
      "spk_sens = [0.0140409861912,0.0158397431009,0.0117748518478,0.00524314564351,0.00322232568949,0.00422169378629]\n",
      "\n",
      "print np.array(phone_sens)/np.array(spk_sens)\n",
      "\n"
     ],
     "language": "python",
     "metadata": {},
     "outputs": [
      {
       "output_type": "stream",
       "stream": "stdout",
       "text": [
        "overall fmllr model\n",
        "2.36730402596\n",
        "16.6933142725\n",
        "39.2437811542\n",
        "55.0187706484\n",
        "57.4724787119\n",
        "57.9989980427\n",
        "overall fbank model\n",
        "[  5.46971297   5.82411526   7.39660363  12.16422421  19.81596376\n",
        "  23.35314924]"
       ]
      },
      {
       "output_type": "stream",
       "stream": "stdout",
       "text": [
        "\n"
       ]
      }
     ],
     "prompt_number": 151
    },
    {
     "cell_type": "code",
     "collapsed": false,
     "input": [
      " "
     ],
     "language": "python",
     "metadata": {},
     "outputs": [
      {
       "metadata": {},
       "output_type": "pyout",
       "prompt_number": 61,
       "text": [
        "1.0"
       ]
      }
     ],
     "prompt_number": 61
    },
    {
     "cell_type": "code",
     "collapsed": false,
     "input": [
      "x = np.vstack((phone_vectors.get('28'),phone_vectors.get('28')))\n",
      "shape(x)"
     ],
     "language": "python",
     "metadata": {},
     "outputs": [
      {
       "metadata": {},
       "output_type": "pyout",
       "prompt_number": 50,
       "text": [
        "(2, 1024)"
       ]
      }
     ],
     "prompt_number": 50
    },
    {
     "cell_type": "code",
     "collapsed": false,
     "input": [
      "list1 = [2,3,4,5,6]\n",
      "list2 = [3,4,5,6,7]\n",
      "\n",
      "x =np.add(np.array(list1, dtype=np.float), np.array(list2, dtype=np.float))\n",
      "x/2"
     ],
     "language": "python",
     "metadata": {},
     "outputs": [
      {
       "metadata": {},
       "output_type": "pyout",
       "prompt_number": 39,
       "text": [
        "array([ 2.5,  3.5,  4.5,  5.5,  6.5])"
       ]
      }
     ],
     "prompt_number": 39
    }
   ],
   "metadata": {}
  }
 ]
}