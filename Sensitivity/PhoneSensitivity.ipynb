{
 "metadata": {
  "name": "",
  "signature": "sha256:bf78e8002828783cf6495e331bc83058443e64dbc5a4efd40770a40b08c876f1"
 },
 "nbformat": 3,
 "nbformat_minor": 0,
 "worksheets": [
  {
   "cells": [
    {
     "cell_type": "code",
     "collapsed": false,
     "input": [
      "import numpy as np\n",
      "\n",
      "def calc_entropy(activationVector):\n",
      "    entropy=0.0\n",
      "    summation = np.sum(activationVector)\n",
      "    activationVector = activationVector / summation\n",
      "    for val in activationVector:\n",
      "        entropy = entropy - val * log2(val)\n",
      "    return entropy\n",
      "\n",
      "alignment_dir='alignments/'\n",
      "model='exp_pdnn/4/'\n",
      "#activations/h1\n",
      "\n",
      "speakers='MEGJ0 MTDB0 FSAH0 MSTF0 MABC0 FDAW0 MJAE0 MRJB1 MJRK0 MDHS0 MPSW0 MTBC0 MSVS0 MLEL0 FGRW0 FLJA0 FPAB1'\n",
      "speakers= speakers + ' MPGR0 FPAF0 FLAC0 MSDB0 FEXM0 MJKR0 MMWS0 MRCG0 MKAH0 MREE0 MTRR0 MZMB0 FDJH0 MMEA0 FSKL0 FKAA0'\n",
      "speakers = speakers + ' MWRE0 MILB0 FBLV0 MPRK0 MDJM0 MRSP0 MDLC1'\n",
      "#speakers='MEGJ0'\n",
      "#layer=6\n",
      "layer_size=1174\n",
      "str_layers=4\n",
      "\n",
      "speakerList=speakers.split()\n",
      "\n",
      "for layer in range(1,7):\n",
      "    phone_counts={}\n",
      "    phone_vectors={}\n",
      "    \n",
      "    if layer > str_layers:\n",
      "        layer_size=1024\n",
      "\n",
      "\n",
      "    for speaker in speakerList:\n",
      "       # print '---------------------- ' + speaker + ' --------------------------'\n",
      "        phoneLabels = alignment_dir + 'pdf.'+speaker+'.ark' #phones\n",
      "        phoneLabelFile = open(phoneLabels, 'r')\n",
      "        activation_file = open(model + 'activations/h'+str(layer)+'/activations_'+speaker+'.ark','r')\n",
      "\n",
      "        while True:\n",
      "            line = phoneLabelFile.readline()\n",
      "            if line == '': #eof reached\n",
      "                break\n",
      "            else:\n",
      "                parray = line.rstrip().split()\n",
      "                utterance = parray[0]\n",
      "                num_frames = len(parray[1:])\n",
      "\n",
      "                #print '----------------------------------------------------'\n",
      "                #print ' number of frames ' + str(num_frames)\n",
      "\n",
      "                for count in range(len(parray)):\n",
      "                    act_line = ((activation_file.readline()).rstrip()).split()\n",
      "\n",
      "                    if len(act_line) == 2:\n",
      "                        utt1= act_line[0]\n",
      "                        #print ' started reading hidden activations for ' + act_line[0]\n",
      "                    elif len(act_line) == layer_size + 1:\n",
      "                        #print ' ended reading hidden activations ' + str(count)\n",
      "                        phoneme=parray[count]\n",
      "                        if phoneme in phone_counts.keys():\n",
      "                            phone_counts[phoneme] =phone_counts.get(phoneme) + 1\n",
      "                            phone_vectors[phoneme] = np.add(np.array(act_line[:layer_size],dtype=np.float),phone_vectors.get(phoneme))\n",
      "                        else:\n",
      "                            phone_counts[phoneme] = 1\n",
      "                            phone_vectors[phoneme] = np.array(act_line[:layer_size],dtype=np.float)\n",
      "                    else:\n",
      "                        phoneme=parray[count]\n",
      "                        if phoneme in phone_counts.keys():\n",
      "                            phone_counts[phoneme] =phone_counts.get(phoneme) + 1\n",
      "                            phone_vectors[phoneme] = np.add(np.array(act_line,dtype=np.float),phone_vectors.get(phoneme))\n",
      "                        else:\n",
      "                            phone_counts[phoneme] = 1\n",
      "                            phone_vectors[phoneme] = np.array(act_line,dtype=np.float)\n",
      "\n",
      "\n",
      "    #print len(phone_counts)        \n",
      "    #print phone_counts   \n",
      "    #print len(phone_vectors) \n",
      "\n",
      "    #average phoneme vectors\n",
      "    for phoneme in phone_counts.keys() :\n",
      "        phone_vectors[phoneme] = phone_vectors.get(phoneme)/phone_counts.get(phoneme)\n",
      "\n",
      "    weight_array=np.zeros(layer_size)\n",
      "    for phoneme in phone_vectors.keys():\n",
      "        weight_array=np.vstack((weight_array,phone_vectors.get(phoneme)))\n",
      "\n",
      "    #print shape(weight_array)\n",
      "    weight_array = np.delete(weight_array,0,0)\n",
      "    #print shape(weight_array) \n",
      "\n",
      "    num_phones = len(weight_array)\n",
      "    max_entropy= num_phones * -(1.0/num_phones)*log2(1.0/num_phones)\n",
      "    #print num_phones\n",
      "    #print max_entropy\n",
      "    #print np.sum(weight_array[1:,0])\n",
      "    ent_val=[]\n",
      "    for i in range(layer_size):\n",
      "        ent_val.append(calc_entropy(weight_array[:,i]))\n",
      "\n",
      "    #print (max_entropy - sum(ent_val)/layer_size)/max_entropy\n",
      "\n",
      "    overall = (max_entropy - sum(ent_val)/layer_size)/max_entropy\n",
      "    standard =  (max_entropy - sum(ent_val[:1024])/1024)/max_entropy\n",
      "    speaker = (max_entropy - sum(ent_val[1024:])/150)/max_entropy\n",
      "    print str(overall) + '  ' + str(standard) + '  ' + str(speaker)\n",
      "    #print str(overall)\n",
      "    \n",
      "\n",
      "    np.savetxt(model+'pdfSensitivitylayer'+str(layer),ent_val)\n",
      "\n",
      "    \n",
      "    #create the matrix"
     ],
     "language": "python",
     "metadata": {},
     "outputs": [
      {
       "output_type": "stream",
       "stream": "stdout",
       "text": [
        "0.0464866266578  0.0530148828042  0.00192039803168\n",
        "0.0663509418212  0.076047319294  0.000157004940206"
       ]
      },
      {
       "output_type": "stream",
       "stream": "stdout",
       "text": [
        "\n",
        "0.0512353323344  0.0587400631819  3.03641531297e-06"
       ]
      },
      {
       "output_type": "stream",
       "stream": "stdout",
       "text": [
        "\n",
        "0.0290507652376  0.0333060444411  1.3925417265e-06"
       ]
      },
      {
       "output_type": "stream",
       "stream": "stdout",
       "text": [
        "\n",
        "0.0402302004731  0.0402302004731  1.0"
       ]
      },
      {
       "output_type": "stream",
       "stream": "stdout",
       "text": [
        "\n",
        "0.0634738377645  0.0634738377645  1.0"
       ]
      },
      {
       "output_type": "stream",
       "stream": "stdout",
       "text": [
        "\n"
       ]
      }
     ],
     "prompt_number": 1
    },
    {
     "cell_type": "code",
     "collapsed": false,
     "input": [],
     "language": "python",
     "metadata": {},
     "outputs": []
    },
    {
     "cell_type": "code",
     "collapsed": false,
     "input": [
      "print 'overall fmllr model'\n",
      "\n",
      "print 0.047869457131/0.0202210855074\n",
      "print 0.0675053096186/0.00404385303702\n",
      "print 0.050788180787/0.0012941714405\n",
      "print 0.0310749851585/0.000564806970281\n",
      "print 0.0348898714182/0.000607070935519\n",
      "print 0.0520081970607/0.000896708543524\n",
      "\n",
      "print 'overall fbank model'\n",
      "\n",
      "phone_sens = [0.0768001643265,0.0922524894857,0.0870939119768,0.0637787991815,0.0638534890974,0.0985898450238]\n",
      "spk_sens = [0.0140409861912,0.0158397431009,0.0117748518478,0.00524314564351,0.00322232568949,0.00422169378629]\n",
      "\n",
      "print np.array(phone_sens)/np.array(spk_sens)\n",
      "\n"
     ],
     "language": "python",
     "metadata": {},
     "outputs": [
      {
       "output_type": "stream",
       "stream": "stdout",
       "text": [
        "overall fmllr model\n",
        "2.36730402596\n",
        "16.6933142725\n",
        "39.2437811542\n",
        "55.0187706484\n",
        "57.4724787119\n",
        "57.9989980427\n",
        "overall fbank model\n",
        "[  5.46971297   5.82411526   7.39660363  12.16422421  19.81596376\n",
        "  23.35314924]"
       ]
      },
      {
       "output_type": "stream",
       "stream": "stdout",
       "text": [
        "\n"
       ]
      }
     ],
     "prompt_number": 151
    },
    {
     "cell_type": "code",
     "collapsed": false,
     "input": [
      " "
     ],
     "language": "python",
     "metadata": {},
     "outputs": [
      {
       "metadata": {},
       "output_type": "pyout",
       "prompt_number": 61,
       "text": [
        "1.0"
       ]
      }
     ],
     "prompt_number": 61
    },
    {
     "cell_type": "code",
     "collapsed": false,
     "input": [
      "x = np.vstack((phone_vectors.get('28'),phone_vectors.get('28')))\n",
      "shape(x)"
     ],
     "language": "python",
     "metadata": {},
     "outputs": [
      {
       "metadata": {},
       "output_type": "pyout",
       "prompt_number": 50,
       "text": [
        "(2, 1024)"
       ]
      }
     ],
     "prompt_number": 50
    },
    {
     "cell_type": "code",
     "collapsed": false,
     "input": [
      "list1 = [2,3,4,5,6]\n",
      "list2 = [3,4,5,6,7]\n",
      "\n",
      "x =np.add(np.array(list1, dtype=np.float), np.array(list2, dtype=np.float))\n",
      "x/2"
     ],
     "language": "python",
     "metadata": {},
     "outputs": [
      {
       "metadata": {},
       "output_type": "pyout",
       "prompt_number": 39,
       "text": [
        "array([ 2.5,  3.5,  4.5,  5.5,  6.5])"
       ]
      }
     ],
     "prompt_number": 39
    }
   ],
   "metadata": {}
  }
 ]
}